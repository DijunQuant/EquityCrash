{
 "cells": [
  {
   "cell_type": "code",
   "execution_count": 18,
   "metadata": {
    "collapsed": false
   },
   "outputs": [
    {
     "name": "stdout",
     "output_type": "stream",
     "text": [
      "Populating the interactive namespace from numpy and matplotlib\n"
     ]
    }
   ],
   "source": [
    "import pandas as pd\n",
    "import numpy as np\n",
    "%pylab inline"
   ]
  },
  {
   "cell_type": "code",
   "execution_count": 5,
   "metadata": {
    "collapsed": false
   },
   "outputs": [],
   "source": [
    "data=pd.read_csv('/Users/yyu/Documents/Finance/Flash Crash/Data/20141015.zn.000.trades',delim_whitespace=True,header=None)"
   ]
  },
  {
   "cell_type": "code",
   "execution_count": 6,
   "metadata": {
    "collapsed": false
   },
   "outputs": [
    {
     "data": {
      "text/html": [
       "<div>\n",
       "<table border=\"1\" class=\"dataframe\">\n",
       "  <thead>\n",
       "    <tr style=\"text-align: right;\">\n",
       "      <th></th>\n",
       "      <th>0</th>\n",
       "      <th>1</th>\n",
       "      <th>2</th>\n",
       "      <th>3</th>\n",
       "      <th>4</th>\n",
       "      <th>5</th>\n",
       "      <th>6</th>\n",
       "      <th>7</th>\n",
       "      <th>8</th>\n",
       "      <th>9</th>\n",
       "      <th>10</th>\n",
       "      <th>11</th>\n",
       "      <th>12</th>\n",
       "      <th>13</th>\n",
       "      <th>14</th>\n",
       "      <th>15</th>\n",
       "      <th>16</th>\n",
       "      <th>17</th>\n",
       "      <th>18</th>\n",
       "    </tr>\n",
       "  </thead>\n",
       "  <tbody>\n",
       "    <tr>\n",
       "      <th>0</th>\n",
       "      <td>I0303</td>\n",
       "      <td>15:50:44.330897</td>\n",
       "      <td>90826</td>\n",
       "      <td>dumpevt.go:128]</td>\n",
       "      <td>2014-10-14</td>\n",
       "      <td>17:00:00.025</td>\n",
       "      <td>-500</td>\n",
       "      <td>CDT:</td>\n",
       "      <td>Time:1413324000025000000</td>\n",
       "      <td>SymbolID:230371</td>\n",
       "      <td>T</td>\n",
       "      <td>Price:</td>\n",
       "      <td>127.5</td>\n",
       "      <td>Size:</td>\n",
       "      <td>9</td>\n",
       "      <td>Condition:</td>\n",
       "      <td>0</td>\n",
       "      <td>TradeCondition:</td>\n",
       "      <td>0</td>\n",
       "    </tr>\n",
       "    <tr>\n",
       "      <th>1</th>\n",
       "      <td>I0303</td>\n",
       "      <td>15:50:44.330911</td>\n",
       "      <td>90826</td>\n",
       "      <td>dumpevt.go:128]</td>\n",
       "      <td>2014-10-14</td>\n",
       "      <td>17:00:00.025</td>\n",
       "      <td>-500</td>\n",
       "      <td>CDT:</td>\n",
       "      <td>Time:1413324000025000000</td>\n",
       "      <td>SymbolID:230371</td>\n",
       "      <td>T</td>\n",
       "      <td>Price:</td>\n",
       "      <td>127.5</td>\n",
       "      <td>Size:</td>\n",
       "      <td>43</td>\n",
       "      <td>Condition:</td>\n",
       "      <td>7</td>\n",
       "      <td>TradeCondition:</td>\n",
       "      <td>77</td>\n",
       "    </tr>\n",
       "    <tr>\n",
       "      <th>2</th>\n",
       "      <td>I0303</td>\n",
       "      <td>15:50:44.330914</td>\n",
       "      <td>90826</td>\n",
       "      <td>dumpevt.go:128]</td>\n",
       "      <td>2014-10-14</td>\n",
       "      <td>17:00:00.025</td>\n",
       "      <td>-500</td>\n",
       "      <td>CDT:</td>\n",
       "      <td>Time:1413324000025000000</td>\n",
       "      <td>SymbolID:230371</td>\n",
       "      <td>T</td>\n",
       "      <td>Price:</td>\n",
       "      <td>127.5</td>\n",
       "      <td>Size:</td>\n",
       "      <td>6</td>\n",
       "      <td>Condition:</td>\n",
       "      <td>0</td>\n",
       "      <td>TradeCondition:</td>\n",
       "      <td>0</td>\n",
       "    </tr>\n",
       "    <tr>\n",
       "      <th>3</th>\n",
       "      <td>I0303</td>\n",
       "      <td>15:50:44.330929</td>\n",
       "      <td>90826</td>\n",
       "      <td>dumpevt.go:128]</td>\n",
       "      <td>2014-10-14</td>\n",
       "      <td>17:00:00.025</td>\n",
       "      <td>-500</td>\n",
       "      <td>CDT:</td>\n",
       "      <td>Time:1413324000025000000</td>\n",
       "      <td>SymbolID:230371</td>\n",
       "      <td>T</td>\n",
       "      <td>Price:</td>\n",
       "      <td>127.5</td>\n",
       "      <td>Size:</td>\n",
       "      <td>20</td>\n",
       "      <td>Condition:</td>\n",
       "      <td>0</td>\n",
       "      <td>TradeCondition:</td>\n",
       "      <td>0</td>\n",
       "    </tr>\n",
       "    <tr>\n",
       "      <th>4</th>\n",
       "      <td>I0303</td>\n",
       "      <td>15:50:44.330935</td>\n",
       "      <td>90826</td>\n",
       "      <td>dumpevt.go:128]</td>\n",
       "      <td>2014-10-14</td>\n",
       "      <td>17:00:00.025</td>\n",
       "      <td>-500</td>\n",
       "      <td>CDT:</td>\n",
       "      <td>Time:1413324000025000000</td>\n",
       "      <td>SymbolID:230371</td>\n",
       "      <td>T</td>\n",
       "      <td>Price:</td>\n",
       "      <td>127.5</td>\n",
       "      <td>Size:</td>\n",
       "      <td>5</td>\n",
       "      <td>Condition:</td>\n",
       "      <td>0</td>\n",
       "      <td>TradeCondition:</td>\n",
       "      <td>0</td>\n",
       "    </tr>\n",
       "  </tbody>\n",
       "</table>\n",
       "</div>"
      ],
      "text/plain": [
       "      0                1      2                3           4             5   \\\n",
       "0  I0303  15:50:44.330897  90826  dumpevt.go:128]  2014-10-14  17:00:00.025   \n",
       "1  I0303  15:50:44.330911  90826  dumpevt.go:128]  2014-10-14  17:00:00.025   \n",
       "2  I0303  15:50:44.330914  90826  dumpevt.go:128]  2014-10-14  17:00:00.025   \n",
       "3  I0303  15:50:44.330929  90826  dumpevt.go:128]  2014-10-14  17:00:00.025   \n",
       "4  I0303  15:50:44.330935  90826  dumpevt.go:128]  2014-10-14  17:00:00.025   \n",
       "\n",
       "    6     7                         8                9  10      11     12  \\\n",
       "0 -500  CDT:  Time:1413324000025000000  SymbolID:230371  T  Price:  127.5   \n",
       "1 -500  CDT:  Time:1413324000025000000  SymbolID:230371  T  Price:  127.5   \n",
       "2 -500  CDT:  Time:1413324000025000000  SymbolID:230371  T  Price:  127.5   \n",
       "3 -500  CDT:  Time:1413324000025000000  SymbolID:230371  T  Price:  127.5   \n",
       "4 -500  CDT:  Time:1413324000025000000  SymbolID:230371  T  Price:  127.5   \n",
       "\n",
       "      13  14          15  16               17  18  \n",
       "0  Size:   9  Condition:   0  TradeCondition:   0  \n",
       "1  Size:  43  Condition:   7  TradeCondition:  77  \n",
       "2  Size:   6  Condition:   0  TradeCondition:   0  \n",
       "3  Size:  20  Condition:   0  TradeCondition:   0  \n",
       "4  Size:   5  Condition:   0  TradeCondition:   0  "
      ]
     },
     "execution_count": 6,
     "metadata": {},
     "output_type": "execute_result"
    }
   ],
   "source": [
    "data.head()"
   ]
  },
  {
   "cell_type": "code",
   "execution_count": 9,
   "metadata": {
    "collapsed": false
   },
   "outputs": [],
   "source": [
    "data.columns=['a','b','c','d','date','time','tz','e','f','g','h','i','px','j','size','k','condition','l','tradecondition']\n",
    "mydata=data[['date','time','px','size']]"
   ]
  },
  {
   "cell_type": "code",
   "execution_count": 10,
   "metadata": {
    "collapsed": false
   },
   "outputs": [
    {
     "name": "stdout",
     "output_type": "stream",
     "text": [
      "<class 'pandas.core.frame.DataFrame'>\n",
      "RangeIndex: 671806 entries, 0 to 671805\n",
      "Data columns (total 4 columns):\n",
      "date    671806 non-null object\n",
      "time    671806 non-null object\n",
      "px      671806 non-null float64\n",
      "size    671806 non-null int64\n",
      "dtypes: float64(1), int64(1), object(2)\n",
      "memory usage: 20.5+ MB\n"
     ]
    }
   ],
   "source": [
    "mydata.info()"
   ]
  },
  {
   "cell_type": "code",
   "execution_count": null,
   "metadata": {
    "collapsed": true
   },
   "outputs": [],
   "source": [
    "mydata['time']=pd.to_datetime(mydata['date'] + ' ' + mydata['time'])"
   ]
  },
  {
   "cell_type": "code",
   "execution_count": 12,
   "metadata": {
    "collapsed": false
   },
   "outputs": [
    {
     "data": {
      "text/html": [
       "<div>\n",
       "<table border=\"1\" class=\"dataframe\">\n",
       "  <thead>\n",
       "    <tr style=\"text-align: right;\">\n",
       "      <th></th>\n",
       "      <th>date</th>\n",
       "      <th>time</th>\n",
       "      <th>px</th>\n",
       "      <th>size</th>\n",
       "    </tr>\n",
       "  </thead>\n",
       "  <tbody>\n",
       "    <tr>\n",
       "      <th>0</th>\n",
       "      <td>2014-10-14</td>\n",
       "      <td>2014-10-14 17:00:00.025</td>\n",
       "      <td>127.5</td>\n",
       "      <td>9</td>\n",
       "    </tr>\n",
       "    <tr>\n",
       "      <th>1</th>\n",
       "      <td>2014-10-14</td>\n",
       "      <td>2014-10-14 17:00:00.025</td>\n",
       "      <td>127.5</td>\n",
       "      <td>43</td>\n",
       "    </tr>\n",
       "    <tr>\n",
       "      <th>2</th>\n",
       "      <td>2014-10-14</td>\n",
       "      <td>2014-10-14 17:00:00.025</td>\n",
       "      <td>127.5</td>\n",
       "      <td>6</td>\n",
       "    </tr>\n",
       "    <tr>\n",
       "      <th>3</th>\n",
       "      <td>2014-10-14</td>\n",
       "      <td>2014-10-14 17:00:00.025</td>\n",
       "      <td>127.5</td>\n",
       "      <td>20</td>\n",
       "    </tr>\n",
       "    <tr>\n",
       "      <th>4</th>\n",
       "      <td>2014-10-14</td>\n",
       "      <td>2014-10-14 17:00:00.025</td>\n",
       "      <td>127.5</td>\n",
       "      <td>5</td>\n",
       "    </tr>\n",
       "  </tbody>\n",
       "</table>\n",
       "</div>"
      ],
      "text/plain": [
       "         date                    time     px  size\n",
       "0  2014-10-14 2014-10-14 17:00:00.025  127.5     9\n",
       "1  2014-10-14 2014-10-14 17:00:00.025  127.5    43\n",
       "2  2014-10-14 2014-10-14 17:00:00.025  127.5     6\n",
       "3  2014-10-14 2014-10-14 17:00:00.025  127.5    20\n",
       "4  2014-10-14 2014-10-14 17:00:00.025  127.5     5"
      ]
     },
     "execution_count": 12,
     "metadata": {},
     "output_type": "execute_result"
    }
   ],
   "source": [
    "mydata.head()"
   ]
  },
  {
   "cell_type": "code",
   "execution_count": 13,
   "metadata": {
    "collapsed": true
   },
   "outputs": [],
   "source": [
    "mydata.set_index('time',inplace=True)"
   ]
  },
  {
   "cell_type": "code",
   "execution_count": 15,
   "metadata": {
    "collapsed": false
   },
   "outputs": [],
   "source": [
    "volume = mydata['size'].resample('1T').sum()"
   ]
  },
  {
   "cell_type": "code",
   "execution_count": 21,
   "metadata": {
    "collapsed": false
   },
   "outputs": [
    {
     "data": {
      "text/plain": [
       "<matplotlib.axes._subplots.AxesSubplot at 0x1104586d8>"
      ]
     },
     "execution_count": 21,
     "metadata": {},
     "output_type": "execute_result"
    },
    {
     "data": {
      "image/png": "[encoded data removed]",
      "text/plain": [
       "<matplotlib.figure.Figure at 0x1104a4898>"
      ]
     },
     "metadata": {},
     "output_type": "display_data"
    }
   ],
   "source": [
    "volume['2014-10-15 08:00:00':].plot()"
   ]
  },
  {
   "cell_type": "code",
   "execution_count": 22,
   "metadata": {
    "collapsed": true
   },
   "outputs": [],
   "source": [
    "volume.to_csv('/Users/yyu/Documents/Finance/Flash Crash/Data/20141015.zn.volumebyminute.csv')"
   ]
  },
  {
   "cell_type": "code",
   "execution_count": null,
   "metadata": {
    "collapsed": true
   },
   "outputs": [],
   "source": []
  }
 ],
 "metadata": {
  "anaconda-cloud": {},
  "kernelspec": {
   "display_name": "Python [conda root]",
   "language": "python",
   "name": "conda-root-py"
  },
  "language_info": {
   "codemirror_mode": {
    "name": "ipython",
    "version": 3
   },
   "file_extension": ".py",
   "mimetype": "text/x-python",
   "name": "python",
   "nbconvert_exporter": "python",
   "pygments_lexer": "ipython3",
   "version": "3.5.2"
  }
 },
 "nbformat": 4,
 "nbformat_minor": 1
}
